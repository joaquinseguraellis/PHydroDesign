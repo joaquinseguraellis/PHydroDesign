{
 "cells": [
  {
   "cell_type": "code",
   "execution_count": 1,
   "metadata": {},
   "outputs": [
    {
     "name": "stdout",
     "output_type": "stream",
     "text": [
      "Collecting git+https://github.com/joaquinseguraellis/PHydroDesign.git\n",
      "  Cloning https://github.com/joaquinseguraellis/PHydroDesign.git to c:\\users\\joako\\appdata\\local\\temp\\pip-req-build-0z6pymyy\n",
      "  Resolved https://github.com/joaquinseguraellis/PHydroDesign.git to commit c12b60eb84c9be39824862caeab087ab53bba7ed\n",
      "  Installing build dependencies: started\n",
      "  Installing build dependencies: finished with status 'done'\n",
      "  Getting requirements to build wheel: started\n",
      "  Getting requirements to build wheel: finished with status 'done'\n",
      "  Preparing metadata (pyproject.toml): started\n",
      "  Preparing metadata (pyproject.toml): finished with status 'done'\n",
      "Building wheels for collected packages: phydrodesign\n",
      "  Building wheel for phydrodesign (pyproject.toml): started\n",
      "  Building wheel for phydrodesign (pyproject.toml): finished with status 'done'\n",
      "  Created wheel for phydrodesign: filename=phydrodesign-1.0.0-py3-none-any.whl size=295676836 sha256=b159ffb28cbcc56c9092f863eea39fb97a29cb17a5a66b92e50a7b3d409d7e0f\n",
      "  Stored in directory: C:\\Users\\joako\\AppData\\Local\\Temp\\pip-ephem-wheel-cache-l5868rry\\wheels\\c4\\37\\17\\85a53ef3dd11d70c4c782f6b266f8e80f98d74151071851c24\n",
      "Successfully built phydrodesign\n",
      "Installing collected packages: phydrodesign\n",
      "Successfully installed phydrodesign-1.0.0\n",
      "Note: you may need to restart the kernel to use updated packages.\n"
     ]
    },
    {
     "name": "stderr",
     "output_type": "stream",
     "text": [
      "  Running command git clone --filter=blob:none --quiet https://github.com/joaquinseguraellis/PHydroDesign.git 'C:\\Users\\joako\\AppData\\Local\\Temp\\pip-req-build-0z6pymyy'\n"
     ]
    }
   ],
   "source": [
    "pip install --user --upgrade --force-reinstall \"git+https://github.com/joaquinseguraellis/PHydroDesign.git\""
   ]
  },
  {
   "cell_type": "code",
   "execution_count": 2,
   "metadata": {},
   "outputs": [
    {
     "data": {
      "text/plain": [
       "{'longitude': -64.2,\n",
       " 'latitude': -31.42,\n",
       " 'in Arg': True,\n",
       " 'Return period': 50,\n",
       " 'Lower limit': 103.2275530007228,\n",
       " 'Estimate': 133.04581865484533,\n",
       " 'Higher limit': 171.66438455465254}"
      ]
     },
     "execution_count": 2,
     "metadata": {},
     "output_type": "execute_result"
    }
   ],
   "source": [
    "from RiSA.results import get_design_rainfall\n",
    "\n",
    "get_design_rainfall(\n",
    "    product='Final', T=50, lon=-64.20, lat=-31.42,\n",
    ")"
   ]
  }
 ],
 "metadata": {
  "kernelspec": {
   "display_name": "tests",
   "language": "python",
   "name": "python3"
  },
  "language_info": {
   "codemirror_mode": {
    "name": "ipython",
    "version": 3
   },
   "file_extension": ".py",
   "mimetype": "text/x-python",
   "name": "python",
   "nbconvert_exporter": "python",
   "pygments_lexer": "ipython3",
   "version": "3.11.4"
  }
 },
 "nbformat": 4,
 "nbformat_minor": 2
}
