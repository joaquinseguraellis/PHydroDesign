{
 "cells": [
  {
   "cell_type": "code",
   "execution_count": null,
   "metadata": {},
   "outputs": [],
   "source": [
    "pip install --user --upgrade --force-reinstall \"git+https://github.com/joaquinseguraellis/PHydroDesign.git\""
   ]
  },
  {
   "cell_type": "code",
   "execution_count": 2,
   "metadata": {},
   "outputs": [
    {
     "data": {
      "text/plain": [
       "{'longitude': -64.2,\n",
       " 'latitude': -31.42,\n",
       " 'in Arg': True,\n",
       " 'Return period': 50,\n",
       " 'Lower limit': 103.2275530007228,\n",
       " 'Estimate': 133.04581865484533,\n",
       " 'Higher limit': 171.66438455465254}"
      ]
     },
     "execution_count": 2,
     "metadata": {},
     "output_type": "execute_result"
    }
   ],
   "source": [
    "from RiSA.results import get_design_rainfall\n",
    "\n",
    "get_design_rainfall(\n",
    "    product='Final', T=50, lon=-64.20, lat=-31.42,\n",
    ")"
   ]
  }
 ],
 "metadata": {
  "kernelspec": {
   "display_name": "tests",
   "language": "python",
   "name": "python3"
  },
  "language_info": {
   "codemirror_mode": {
    "name": "ipython",
    "version": 3
   },
   "file_extension": ".py",
   "mimetype": "text/x-python",
   "name": "python",
   "nbconvert_exporter": "python",
   "pygments_lexer": "ipython3",
   "version": "3.11.4"
  }
 },
 "nbformat": 4,
 "nbformat_minor": 2
}
