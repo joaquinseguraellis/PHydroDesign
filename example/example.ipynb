{
 "cells": [
  {
   "cell_type": "code",
   "execution_count": null,
   "metadata": {},
   "outputs": [],
   "source": [
    "pip install --user --upgrade --force-reinstall \"git+https://github.com/joaquinseguraellis/PydroDesign.git\""
   ]
  },
  {
   "cell_type": "code",
   "execution_count": 1,
   "metadata": {},
   "outputs": [
    {
     "name": "stderr",
     "output_type": "stream",
     "text": [
      "WARNING: pip is being invoked by an old script wrapper. This will fail in a future version of pip.\n",
      "Please see https://github.com/pypa/pip/issues/5599 for advice on fixing the underlying issue.\n",
      "To avoid this problem you can invoke Python with '-m pip' instead of running pip directly.\n"
     ]
    },
    {
     "data": {
      "text/html": [
       "<pre style=\"white-space:pre;overflow-x:auto;line-height:normal;font-family:Menlo,'DejaVu Sans Mono',consolas,'Courier New',monospace\">Requirement already satisfied: pyshp in c:\\users\\joako\\miniconda3\\envs\\test\\lib\\site-packages (2.3.1)\n",
       "</pre>\n"
      ],
      "text/plain": [
       "Requirement already satisfied: pyshp in c:\\users\\joako\\miniconda3\\envs\\test\\lib\\site-packages (2.3.1)\n"
      ]
     },
     "metadata": {},
     "output_type": "display_data"
    },
    {
     "name": "stderr",
     "output_type": "stream",
     "text": [
      "WARNING: pip is being invoked by an old script wrapper. This will fail in a future version of pip.\n",
      "Please see https://github.com/pypa/pip/issues/5599 for advice on fixing the underlying issue.\n",
      "To avoid this problem you can invoke Python with '-m pip' instead of running pip directly.\n"
     ]
    },
    {
     "data": {
      "text/html": [
       "<pre style=\"white-space:pre;overflow-x:auto;line-height:normal;font-family:Menlo,'DejaVu Sans Mono',consolas,'Courier New',monospace\">Requirement already satisfied: shapely in c:\\users\\joako\\miniconda3\\envs\\test\\lib\\site-packages (2.0.3)\n",
       "</pre>\n"
      ],
      "text/plain": [
       "Requirement already satisfied: shapely in c:\\users\\joako\\miniconda3\\envs\\test\\lib\\site-packages (2.0.3)\n"
      ]
     },
     "metadata": {},
     "output_type": "display_data"
    },
    {
     "data": {
      "text/html": [
       "<pre style=\"white-space:pre;overflow-x:auto;line-height:normal;font-family:Menlo,'DejaVu Sans Mono',consolas,'Courier New',monospace\">Requirement already satisfied: numpy&lt;2,&gt;=1.14 in c:\\users\\joako\\miniconda3\\envs\\test\\lib\\site-packages (from shapely) (1.26.4)\n",
       "</pre>\n"
      ],
      "text/plain": [
       "Requirement already satisfied: numpy<2,>=1.14 in c:\\users\\joako\\miniconda3\\envs\\test\\lib\\site-packages (from shapely) (1.26.4)\n"
      ]
     },
     "metadata": {},
     "output_type": "display_data"
    },
    {
     "name": "stderr",
     "output_type": "stream",
     "text": [
      "WARNING: pip is being invoked by an old script wrapper. This will fail in a future version of pip.\n",
      "Please see https://github.com/pypa/pip/issues/5599 for advice on fixing the underlying issue.\n",
      "To avoid this problem you can invoke Python with '-m pip' instead of running pip directly.\n"
     ]
    },
    {
     "data": {
      "text/html": [
       "<pre style=\"white-space:pre;overflow-x:auto;line-height:normal;font-family:Menlo,'DejaVu Sans Mono',consolas,'Courier New',monospace\">Requirement already satisfied: rasterio in c:\\users\\joako\\miniconda3\\envs\\test\\lib\\site-packages (1.3.9)\n",
       "</pre>\n"
      ],
      "text/plain": [
       "Requirement already satisfied: rasterio in c:\\users\\joako\\miniconda3\\envs\\test\\lib\\site-packages (1.3.9)\n"
      ]
     },
     "metadata": {},
     "output_type": "display_data"
    },
    {
     "data": {
      "text/html": [
       "<pre style=\"white-space:pre;overflow-x:auto;line-height:normal;font-family:Menlo,'DejaVu Sans Mono',consolas,'Courier New',monospace\">Requirement already satisfied: affine in c:\\users\\joako\\miniconda3\\envs\\test\\lib\\site-packages (from rasterio) (2.4.0)\n",
       "</pre>\n"
      ],
      "text/plain": [
       "Requirement already satisfied: affine in c:\\users\\joako\\miniconda3\\envs\\test\\lib\\site-packages (from rasterio) (2.4.0)\n"
      ]
     },
     "metadata": {},
     "output_type": "display_data"
    },
    {
     "data": {
      "text/html": [
       "<pre style=\"white-space:pre;overflow-x:auto;line-height:normal;font-family:Menlo,'DejaVu Sans Mono',consolas,'Courier New',monospace\">Requirement already satisfied: attrs in c:\\users\\joako\\miniconda3\\envs\\test\\lib\\site-packages (from rasterio) (23.2.0)\n",
       "</pre>\n"
      ],
      "text/plain": [
       "Requirement already satisfied: attrs in c:\\users\\joako\\miniconda3\\envs\\test\\lib\\site-packages (from rasterio) (23.2.0)\n"
      ]
     },
     "metadata": {},
     "output_type": "display_data"
    },
    {
     "data": {
      "text/html": [
       "<pre style=\"white-space:pre;overflow-x:auto;line-height:normal;font-family:Menlo,'DejaVu Sans Mono',consolas,'Courier New',monospace\">Requirement already satisfied: certifi in c:\\users\\joako\\appdata\\roaming\\python\\python311\\site-packages (from rasterio) (2023.11.17)\n",
       "</pre>\n"
      ],
      "text/plain": [
       "Requirement already satisfied: certifi in c:\\users\\joako\\appdata\\roaming\\python\\python311\\site-packages (from rasterio) (2023.11.17)\n"
      ]
     },
     "metadata": {},
     "output_type": "display_data"
    },
    {
     "data": {
      "text/html": [
       "<pre style=\"white-space:pre;overflow-x:auto;line-height:normal;font-family:Menlo,'DejaVu Sans Mono',consolas,'Courier New',monospace\">Requirement already satisfied: click&gt;=4.0 in c:\\users\\joako\\appdata\\roaming\\python\\python311\\site-packages (from rasterio) (8.1.7)\n",
       "</pre>\n"
      ],
      "text/plain": [
       "Requirement already satisfied: click>=4.0 in c:\\users\\joako\\appdata\\roaming\\python\\python311\\site-packages (from rasterio) (8.1.7)\n"
      ]
     },
     "metadata": {},
     "output_type": "display_data"
    },
    {
     "data": {
      "text/html": [
       "<pre style=\"white-space:pre;overflow-x:auto;line-height:normal;font-family:Menlo,'DejaVu Sans Mono',consolas,'Courier New',monospace\">Requirement already satisfied: cligj&gt;=0.5 in c:\\users\\joako\\miniconda3\\envs\\test\\lib\\site-packages (from rasterio) (0.7.2)\n",
       "</pre>\n"
      ],
      "text/plain": [
       "Requirement already satisfied: cligj>=0.5 in c:\\users\\joako\\miniconda3\\envs\\test\\lib\\site-packages (from rasterio) (0.7.2)\n"
      ]
     },
     "metadata": {},
     "output_type": "display_data"
    },
    {
     "data": {
      "text/html": [
       "<pre style=\"white-space:pre;overflow-x:auto;line-height:normal;font-family:Menlo,'DejaVu Sans Mono',consolas,'Courier New',monospace\">Requirement already satisfied: numpy in c:\\users\\joako\\miniconda3\\envs\\test\\lib\\site-packages (from rasterio) (1.26.4)\n",
       "</pre>\n"
      ],
      "text/plain": [
       "Requirement already satisfied: numpy in c:\\users\\joako\\miniconda3\\envs\\test\\lib\\site-packages (from rasterio) (1.26.4)\n"
      ]
     },
     "metadata": {},
     "output_type": "display_data"
    },
    {
     "data": {
      "text/html": [
       "<pre style=\"white-space:pre;overflow-x:auto;line-height:normal;font-family:Menlo,'DejaVu Sans Mono',consolas,'Courier New',monospace\">Requirement already satisfied: snuggs&gt;=1.4.1 in c:\\users\\joako\\miniconda3\\envs\\test\\lib\\site-packages (from rasterio) (1.4.7)\n",
       "</pre>\n"
      ],
      "text/plain": [
       "Requirement already satisfied: snuggs>=1.4.1 in c:\\users\\joako\\miniconda3\\envs\\test\\lib\\site-packages (from rasterio) (1.4.7)\n"
      ]
     },
     "metadata": {},
     "output_type": "display_data"
    },
    {
     "data": {
      "text/html": [
       "<pre style=\"white-space:pre;overflow-x:auto;line-height:normal;font-family:Menlo,'DejaVu Sans Mono',consolas,'Courier New',monospace\">Requirement already satisfied: click-plugins in c:\\users\\joako\\miniconda3\\envs\\test\\lib\\site-packages (from rasterio) (1.1.1)\n",
       "</pre>\n"
      ],
      "text/plain": [
       "Requirement already satisfied: click-plugins in c:\\users\\joako\\miniconda3\\envs\\test\\lib\\site-packages (from rasterio) (1.1.1)\n"
      ]
     },
     "metadata": {},
     "output_type": "display_data"
    },
    {
     "data": {
      "text/html": [
       "<pre style=\"white-space:pre;overflow-x:auto;line-height:normal;font-family:Menlo,'DejaVu Sans Mono',consolas,'Courier New',monospace\">Requirement already satisfied: setuptools in c:\\users\\joako\\miniconda3\\envs\\test\\lib\\site-packages (from rasterio) (68.2.2)\n",
       "</pre>\n"
      ],
      "text/plain": [
       "Requirement already satisfied: setuptools in c:\\users\\joako\\miniconda3\\envs\\test\\lib\\site-packages (from rasterio) (68.2.2)\n"
      ]
     },
     "metadata": {},
     "output_type": "display_data"
    },
    {
     "data": {
      "text/html": [
       "<pre style=\"white-space:pre;overflow-x:auto;line-height:normal;font-family:Menlo,'DejaVu Sans Mono',consolas,'Courier New',monospace\">Requirement already satisfied: colorama in c:\\users\\joako\\appdata\\roaming\\python\\python311\\site-packages (from click&gt;=4.0-&gt;rasterio) (0.4.6)\n",
       "</pre>\n"
      ],
      "text/plain": [
       "Requirement already satisfied: colorama in c:\\users\\joako\\appdata\\roaming\\python\\python311\\site-packages (from click>=4.0->rasterio) (0.4.6)\n"
      ]
     },
     "metadata": {},
     "output_type": "display_data"
    },
    {
     "data": {
      "text/html": [
       "<pre style=\"white-space:pre;overflow-x:auto;line-height:normal;font-family:Menlo,'DejaVu Sans Mono',consolas,'Courier New',monospace\">Requirement already satisfied: pyparsing&gt;=2.1.6 in c:\\users\\joako\\miniconda3\\envs\\test\\lib\\site-packages (from snuggs&gt;=1.4.1-&gt;rasterio) (3.1.1)\n",
       "</pre>\n"
      ],
      "text/plain": [
       "Requirement already satisfied: pyparsing>=2.1.6 in c:\\users\\joako\\miniconda3\\envs\\test\\lib\\site-packages (from snuggs>=1.4.1->rasterio) (3.1.1)\n"
      ]
     },
     "metadata": {},
     "output_type": "display_data"
    },
    {
     "name": "stderr",
     "output_type": "stream",
     "text": [
      "WARNING: pip is being invoked by an old script wrapper. This will fail in a future version of pip.\n",
      "Please see https://github.com/pypa/pip/issues/5599 for advice on fixing the underlying issue.\n",
      "To avoid this problem you can invoke Python with '-m pip' instead of running pip directly.\n"
     ]
    },
    {
     "data": {
      "text/html": [
       "<pre style=\"white-space:pre;overflow-x:auto;line-height:normal;font-family:Menlo,'DejaVu Sans Mono',consolas,'Courier New',monospace\">Requirement already satisfied: scipy in c:\\users\\joako\\miniconda3\\envs\\test\\lib\\site-packages (1.12.0)\n",
       "</pre>\n"
      ],
      "text/plain": [
       "Requirement already satisfied: scipy in c:\\users\\joako\\miniconda3\\envs\\test\\lib\\site-packages (1.12.0)\n"
      ]
     },
     "metadata": {},
     "output_type": "display_data"
    },
    {
     "data": {
      "text/html": [
       "<pre style=\"white-space:pre;overflow-x:auto;line-height:normal;font-family:Menlo,'DejaVu Sans Mono',consolas,'Courier New',monospace\">Requirement already satisfied: numpy&lt;1.29.0,&gt;=1.22.4 in c:\\users\\joako\\miniconda3\\envs\\test\\lib\\site-packages (from scipy) (1.26.4)\n",
       "</pre>\n"
      ],
      "text/plain": [
       "Requirement already satisfied: numpy<1.29.0,>=1.22.4 in c:\\users\\joako\\miniconda3\\envs\\test\\lib\\site-packages (from scipy) (1.26.4)\n"
      ]
     },
     "metadata": {},
     "output_type": "display_data"
    },
    {
     "data": {
      "text/plain": [
       "{'longitude': -64.2,\n",
       " 'latitude': -31.42,\n",
       " 'in Arg': True,\n",
       " 'Return period': 50,\n",
       " 'Lower limit': 103.2275530007228,\n",
       " 'Estimate': 133.04581865484533,\n",
       " 'Higher limit': 171.66438455465254}"
      ]
     },
     "execution_count": 1,
     "metadata": {},
     "output_type": "execute_result"
    }
   ],
   "source": [
    "from RiSA.results import get_design_rainfall\n",
    "\n",
    "get_design_rainfall(\n",
    "    product='Final', T=50, lon=-64.20, lat=-31.42,\n",
    ")\n",
    "{\n",
    "    'longitude': -64.2,\n",
    "    'latitude': -31.42,\n",
    "    'in Arg': True,\n",
    "    'Return period': 50,\n",
    "    'Lower limit': 103.2275530007228,\n",
    "    'Estimate': 133.04581865484533,\n",
    "    'Higher limit': 171.66438455465254,\n",
    "}"
   ]
  }
 ],
 "metadata": {
  "kernelspec": {
   "display_name": "tests",
   "language": "python",
   "name": "python3"
  },
  "language_info": {
   "codemirror_mode": {
    "name": "ipython",
    "version": 3
   },
   "file_extension": ".py",
   "mimetype": "text/x-python",
   "name": "python",
   "nbconvert_exporter": "python",
   "pygments_lexer": "ipython3",
   "version": "3.11.8"
  }
 },
 "nbformat": 4,
 "nbformat_minor": 2
}
